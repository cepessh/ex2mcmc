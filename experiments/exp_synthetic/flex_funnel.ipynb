{
 "cells": [
  {
   "cell_type": "code",
   "execution_count": 2,
   "id": "64e76fd7",
   "metadata": {
    "colab": {
     "base_uri": "https://localhost:8080/",
     "height": 383
    },
    "id": "64e76fd7",
    "outputId": "b928ccc9-3fb7-41ab-a7a6-ea9f7560fb60"
   },
   "outputs": [],
   "source": [
    "import numpy as np\n",
    "import matplotlib.pyplot as plt\n",
    "import torch\n",
    "import time\n",
    "import pyro\n",
    "from pyro.infer import MCMC, NUTS\n",
    "from ex2mcmc.samplers import mala, i_sir, ex2_mcmc\n",
    "import ot\n",
    "import jax\n",
    "import gc\n",
    "\n",
    "from ex2mcmc.sampling_utils.adaptive_mc import Ex2MCMC, FlowMCMC\n",
    "from ex2mcmc.sampling_utils.distributions import (\n",
    "    Funnel,\n",
    "    IndependentNormal,\n",
    ")\n",
    "from ex2mcmc.models.rnvp import RNVP\n",
    "\n",
    "from ex2mcmc.sampling_utils.metrics import ESS, acl_spectrum\n",
    "from ex2mcmc.sampling_utils.total_variation import (\n",
    "    average_total_variation,\n",
    ")\n",
    "\n",
    "\n",
    "device = torch.device('cuda:0' if torch.cuda.is_available() else 'cpu')"
   ]
  },
  {
   "cell_type": "code",
   "execution_count": 3,
   "id": "eefb8f1e",
   "metadata": {
    "id": "eefb8f1e"
   },
   "outputs": [],
   "source": [
    "def sample_nuts(target, proposal, device = 'cpu', num_samples=1000, burn_in=1000, batch_size=1, rand_seed = 42):\n",
    "    def true_target_energy(z):\n",
    "        return -target(z)\n",
    "\n",
    "    def energy(z):\n",
    "        z = z[\"points\"]\n",
    "        return true_target_energy(z).sum()\n",
    "    start_time = time.time()\n",
    "    # kernel = HMC(potential_fn=energy, step_size = 0.1, num_steps = K, full_mass = False)\n",
    "    kernel_true = NUTS(potential_fn=energy, full_mass=False)\n",
    "    #kernel_true = HMC(potential_fn=energy, full_mass=False)\n",
    "    pyro.set_rng_seed(rand_seed)\n",
    "    init_samples = proposal.sample((batch_size,)).to(device)\n",
    "    print(init_samples.shape) \n",
    "    #init_samples = torch.zeros_like(init_samples)\n",
    "    dim = init_samples.shape[-1]\n",
    "    init_params = {\"points\": init_samples}\n",
    "    mcmc_true = MCMC(\n",
    "        kernel=kernel_true,\n",
    "        num_samples=num_samples,\n",
    "        initial_params=init_params,\n",
    "        warmup_steps=burn_in,\n",
    "    )\n",
    "    mcmc_true.run()\n",
    "    q_true = mcmc_true.get_samples(group_by_chain=True)[\"points\"].cpu()\n",
    "    samples_true = np.array(q_true.view(-1, batch_size, dim))\n",
    "    end_time = time.time()\n",
    "    return end_time-start_time, samples_true"
   ]
  },
  {
   "cell_type": "code",
   "execution_count": 4,
   "id": "21ecc163",
   "metadata": {
    "id": "21ecc163"
   },
   "outputs": [],
   "source": [
    "def compute_metrics(\n",
    "    xs_true,\n",
    "    xs_pred,\n",
    "    name=None,\n",
    "    n_samples=1000,\n",
    "    scale=1.0,\n",
    "    trunc_chain_len=None,\n",
    "    ess_rar=1,\n",
    "):\n",
    "    metrics = dict()\n",
    "    key = jax.random.PRNGKey(0)\n",
    "    n_steps = 25\n",
    "    # n_samples = 100\n",
    "\n",
    "    ess = ESS(\n",
    "        acl_spectrum(\n",
    "            xs_pred[::ess_rar] - xs_pred[::ess_rar].mean(0)[None, ...],\n",
    "        ),\n",
    "    ).mean()\n",
    "    metrics[\"ess\"] = ess\n",
    "\n",
    "    xs_pred = xs_pred[-trunc_chain_len:]\n",
    "    print(xs_true.shape)\n",
    "    print(xs_pred.shape)\n",
    "\n",
    "    tracker = average_total_variation(\n",
    "        key,\n",
    "        xs_true,\n",
    "        xs_pred,\n",
    "        n_steps=n_steps,\n",
    "        n_samples=n_samples,\n",
    "    )\n",
    "\n",
    "    metrics[\"tv_mean\"] = tracker.mean()\n",
    "    metrics[\"tv_conf_sigma\"] = tracker.std_of_mean()\n",
    "\n",
    "    mean = tracker.mean()\n",
    "    std = tracker.std()\n",
    "\n",
    "    metrics[\"emd\"] = 0\n",
    "    #Cost_matr_isir = ot.dist(x1 = isir_res[j][i], x2=gt_samples[i], metric='sqeuclidean', p=2, w=None)\n",
    "    for b in range(xs_pred.shape[1]):\n",
    "        M = ot.dist(xs_true / scale, xs_pred[:, b,:] / scale)\n",
    "        emd = ot.lp.emd2([], [], M, numItermax = 1e6)\n",
    "        metrics[\"emd\"] += emd / xs_pred.shape[1]\n",
    "\n",
    "    if name is not None:\n",
    "        print(f\"===={name}====\")\n",
    "    print(\n",
    "        f\"TV distance. Mean: {mean:.3f}, Std: {std:.3f}. \\nESS: {ess:.3f} \\nEMD: {emd:.3f}\",\n",
    "    )\n",
    "\n",
    "    return metrics"
   ]
  },
  {
   "cell_type": "code",
   "execution_count": 5,
   "id": "0451eea7",
   "metadata": {
    "id": "0451eea7"
   },
   "outputs": [],
   "source": [
    "n_steps = 1\n",
    "dist = \"Funnel\"\n",
    "dim = 100\n",
    "scale_proposal = 1.\n",
    "scale_isir = 3.\n",
    "dist_class = \"Funnel\"\n",
    "a = 2.0\n",
    "b = 0.5\n",
    "target = Funnel(\n",
    "                dim=dim,\n",
    "                device=device,\n",
    "                a = a,\n",
    "                b = b\n",
    "                #**dist_params.dict,\n",
    ")"
   ]
  },
  {
   "cell_type": "code",
   "execution_count": 6,
   "id": "309bf3de",
   "metadata": {
    "id": "309bf3de"
   },
   "outputs": [],
   "source": [
    "loc_proposal = torch.zeros(dim).to(device)\n",
    "scale_proposal = scale_proposal * torch.ones(dim).to(device)\n",
    "scale_isir = scale_isir * torch.ones(dim).to(device)\n",
    "\n",
    "proposal = IndependentNormal(\n",
    "    dim=dim,\n",
    "    loc=loc_proposal,\n",
    "    scale=scale_proposal,\n",
    "    device=device,\n",
    ")\n",
    "\n",
    "proposal_ex2 = IndependentNormal(\n",
    "    dim=dim,\n",
    "    loc=loc_proposal,\n",
    "    scale=scale_isir,\n",
    "    device=device,\n",
    ")"
   ]
  },
  {
   "cell_type": "markdown",
   "id": "ccb93c3e",
   "metadata": {
    "id": "ccb93c3e"
   },
   "source": [
    "### Generate ground-truth samples"
   ]
  },
  {
   "cell_type": "code",
   "execution_count": 7,
   "id": "f6bf6e44",
   "metadata": {
    "id": "f6bf6e44"
   },
   "outputs": [],
   "source": [
    "N_samples = 1*10**3\n",
    "np.random.seed(42)\n",
    "True_samples = np.random.randn(N_samples,dim)\n",
    "True_samples[:,0] *= a \n",
    "for k in range(1,dim):\n",
    "    True_samples[:,k] *= np.exp(True_samples[:,0]/2) "
   ]
  },
  {
   "cell_type": "code",
   "execution_count": 8,
   "id": "4f23fb68",
   "metadata": {
    "colab": {
     "base_uri": "https://localhost:8080/",
     "height": 281
    },
    "id": "4f23fb68",
    "outputId": "7b652b6e-872b-4849-bc17-94fecb591200"
   },
   "outputs": [
    {
     "data": {
      "image/png": "[encoded data removed]",
      "text/plain": [
       "<Figure size 640x480 with 1 Axes>"
      ]
     },
     "metadata": {},
     "output_type": "display_data"
    }
   ],
   "source": [
    "fig,ax=plt.subplots(1,1)\n",
    "#cp = ax.contourf(X, Y, dens_vals)\n",
    "#fig.colorbar(cp) # Add a colorbar to a plot\n",
    "ax.scatter(True_samples[:,0],True_samples[:,1], alpha=0.5)\n",
    "ax.set_title('Ground truth samples')\n",
    "plt.show()"
   ]
  },
  {
   "cell_type": "markdown",
   "id": "2d7c4763",
   "metadata": {
    "id": "2d7c4763"
   },
   "source": [
    "### Sample with NUTS"
   ]
  },
  {
   "cell_type": "code",
   "execution_count": 9,
   "id": "b663fb4b",
   "metadata": {
    "id": "b663fb4b"
   },
   "outputs": [],
   "source": [
    "#samples to compute ground-truth metrics\n",
    "Nuts_samples_ground_truth = 2000\n",
    "#Nuts_samples_comparison\n",
    "trunc_chain_len = 1000\n",
    "#nuts samples burn_in\n",
    "nuts_burn_in = 500\n",
    "#nuts batch size\n",
    "nuts_batch = 1"
   ]
  },
  {
   "cell_type": "markdown",
   "id": "1f5f78d4",
   "metadata": {
    "id": "1f5f78d4"
   },
   "source": [
    "### Generate ground-truth samples (with NUTS)"
   ]
  },
  {
   "cell_type": "code",
   "execution_count": 10,
   "id": "bc757f25",
   "metadata": {
    "colab": {
     "base_uri": "https://localhost:8080/"
    },
    "id": "bc757f25",
    "outputId": "86cb00ba-f30d-475a-ef78-67f9c68e3031"
   },
   "outputs": [
    {
     "name": "stdout",
     "output_type": "stream",
     "text": [
      "torch.Size([1, 100])\n"
     ]
    },
    {
     "name": "stderr",
     "output_type": "stream",
     "text": [
      "Sample: 100%|██████████| 1500/1500 [00:41, 35.83it/s, step size=6.74e-02, acc. prob=0.880] "
     ]
    },
    {
     "name": "stdout",
     "output_type": "stream",
     "text": [
      "(1000, 1, 100)\n"
     ]
    },
    {
     "name": "stderr",
     "output_type": "stream",
     "text": [
      "\n"
     ]
    }
   ],
   "source": [
    "rand_seed = 45\n",
    "time_nuts, sample_nuts_ref = sample_nuts(\n",
    "                target,\n",
    "                proposal,\n",
    "                device,\n",
    "                num_samples=1000,\n",
    "                batch_size=nuts_batch,\n",
    "                burn_in=nuts_burn_in,\n",
    "                rand_seed = rand_seed\n",
    ")\n",
    "print(sample_nuts_ref.shape)"
   ]
  },
  {
   "cell_type": "code",
   "execution_count": 11,
   "id": "c25210ad",
   "metadata": {
    "colab": {
     "base_uri": "https://localhost:8080/",
     "height": 281
    },
    "id": "c25210ad",
    "outputId": "7a03e9f2-01d6-48f2-c453-2c5a99ac81bd"
   },
   "outputs": [
    {
     "data": {
      "image/png": "[encoded data removed]",
      "text/plain": [
       "<Figure size 640x480 with 1 Axes>"
      ]
     },
     "metadata": {},
     "output_type": "display_data"
    }
   ],
   "source": [
    "fig,ax=plt.subplots(1,1)\n",
    "ax.scatter(sample_nuts_ref[:,0,0],sample_nuts_ref[:,0,1], alpha=0.5)\n",
    "ax.set_title('NUTS samples')\n",
    "plt.show()"
   ]
  },
  {
   "cell_type": "code",
   "execution_count": 12,
   "id": "6147e47f",
   "metadata": {
    "colab": {
     "base_uri": "https://localhost:8080/",
     "height": 124,
     "referenced_widgets": [
      "1ce1080c688a4d99b3b74213de62ff86",
      "8605fd14ffd64e1dbe051837d460ce1e",
      "4ecc02fdd870427e89170d0f5cce0e4f",
      "190f7afbb2b94a479b1bb81b06ac4dce",
      "562e3c94ef4a40e1a5544d3876cd2e5e",
      "8f8359f0b14a4de6aebbb430418165c5",
      "f39cede371a54a83ba53a5c477ec4f42",
      "ad76e1f16b6c4cb3b7fd68a0bd9748e1",
      "ad86f6bf15824a018b2193bbbe990001",
      "3733841a2779415c8c76ae3a4b4450a1",
      "c8f66e77cfcd4560b9fccf48f3eed9bc"
     ]
    },
    "id": "6147e47f",
    "outputId": "28a6523b-c58f-43ba-b5bd-944d920e154f"
   },
   "outputs": [
    {
     "name": "stdout",
     "output_type": "stream",
     "text": [
      "(1000, 100)\n",
      "(1000, 1, 100)\n"
     ]
    },
    {
     "data": {
      "application/vnd.jupyter.widget-view+json": {
       "model_id": "9cc528ded7de4052802e3de04e8dcf48",
       "version_major": 2,
       "version_minor": 0
      },
      "text/plain": [
       "  0%|          | 0/25 [00:00<?, ?it/s]"
      ]
     },
     "metadata": {},
     "output_type": "display_data"
    },
    {
     "name": "stdout",
     "output_type": "stream",
     "text": [
      "====NUTS====\n",
      "TV distance. Mean: 0.074, Std: 0.029. \n",
      "ESS: 0.197 \n",
      "EMD: 1014.357\n"
     ]
    }
   ],
   "source": [
    "metrics = compute_metrics(\n",
    "                    True_samples,\n",
    "                    sample_nuts_ref,\n",
    "                    name=\"NUTS\",\n",
    "                    trunc_chain_len=trunc_chain_len,\n",
    "                    ess_rar=1,\n",
    ")"
   ]
  },
  {
   "cell_type": "markdown",
   "id": "d4c58b7c",
   "metadata": {
    "id": "d4c58b7c"
   },
   "source": [
    "### Sample with Ex2MCMC"
   ]
  },
  {
   "cell_type": "code",
   "execution_count": 19,
   "id": "a6e1a1b7",
   "metadata": {
    "id": "a6e1a1b7"
   },
   "outputs": [],
   "source": [
    "params = {\n",
    "      \"N\": 2000,\n",
    "      \"grad_step\": 0.1,\n",
    "      \"adapt_stepsize\": True, #True\n",
    "      \"corr_coef\": 0.0,\n",
    "      \"bernoulli_prob_corr\": 0.0, #0.75\n",
    "      \"mala_steps\": 3\n",
    "}\n",
    "        \n",
    "n_steps_ex2 = 5000\n",
    "batch_size = 1"
   ]
  },
  {
   "cell_type": "code",
   "execution_count": 13,
   "id": "evLaDyzDLvqX",
   "metadata": {
    "colab": {
     "base_uri": "https://localhost:8080/"
    },
    "id": "evLaDyzDLvqX",
    "outputId": "ca7ebe2e-957a-418f-9060-3a01837b5ae1"
   },
   "outputs": [],
   "source": [
    "# distr = torch.distributions.Normal(torch.zeros(1).to(device), torch.ones(1).to(device))\n",
    "# logprob1 = distr.log_prob(torch.ones(1).to(device))\n",
    "# print(logprob1)"
   ]
  },
  {
   "cell_type": "code",
   "execution_count": 21,
   "id": "Lhujwuu8Pxy-",
   "metadata": {
    "id": "Lhujwuu8Pxy-"
   },
   "outputs": [],
   "source": [
    "gc.collect()\n",
    "torch.cuda.empty_cache()"
   ]
  },
  {
   "cell_type": "code",
   "execution_count": 22,
   "id": "68680fc4",
   "metadata": {
    "colab": {
     "base_uri": "https://localhost:8080/"
    },
    "id": "68680fc4",
    "outputId": "d4f90692-b4e4-4d3b-d6a4-a951e19dcd34"
   },
   "outputs": [
    {
     "name": "stdout",
     "output_type": "stream",
     "text": [
      "tensor([[-0.0498, -1.4004,  6.2727,  1.8447, -1.6863, -1.2428, -3.9003, -0.3036,\n",
      "         -3.2998, -1.4060, -2.5201,  2.0605, -0.2033, -0.2658, -0.9371, -1.0657,\n",
      "          2.1427,  1.2595, -5.3017, -1.4988,  0.9248, -0.8840, -2.2987, -2.9885,\n",
      "          2.3344, -2.0567, -2.1977,  0.9013, -1.0890,  4.7467, -1.3289,  5.5386,\n",
      "         -2.1344,  3.1276, -2.2854, -1.4491, -2.3312, -1.3452, -3.5005,  1.5017,\n",
      "          3.9753, -3.4880, -6.3559,  1.6409, -3.5003, -3.0598,  4.8848,  1.0426,\n",
      "         -0.3574, -4.6246,  1.9262,  4.5048, -0.5864,  2.2313,  4.0834,  2.3789,\n",
      "          1.4331,  2.7745,  2.6524,  2.3427,  1.3991, -6.7856,  1.6121, -2.4007,\n",
      "          5.0146, -1.0789, -6.4539, -4.0776, -2.1608, -1.7038, -1.6314,  5.5476,\n",
      "         -0.0256, -1.2498,  1.4234, -1.3186, -2.2680,  3.4088,  3.8268,  0.4925,\n",
      "          8.1480,  2.4271, -3.2091, -0.5971,  2.1426, -1.8414,  2.4056,  5.6965,\n",
      "         -3.4502,  0.1139, -2.0359, -2.2649,  1.7483, -5.4082,  6.6041, -0.5617,\n",
      "         -1.2954, -4.4075,  1.3429, -2.1670]])\n"
     ]
    },
    {
     "name": "stderr",
     "output_type": "stream",
     "text": [
      "100%|██████████| 5000/5000 [00:41<00:00, 120.31it/s]\n"
     ]
    },
    {
     "name": "stdout",
     "output_type": "stream",
     "text": [
      "tensor([0.4993])\n",
      "(5000, 100)\n"
     ]
    }
   ],
   "source": [
    "mcmc = Ex2MCMC(**params, dim=dim)\n",
    "pyro.set_rng_seed(43)\n",
    "start = proposal_ex2.sample((batch_size,)).to(device)\n",
    "print(start)\n",
    "# s = time.time()\n",
    "out = mcmc(start, target, proposal_ex2, n_steps = n_steps_ex2)\n",
    "if isinstance(out, tuple):\n",
    "    sample = out[0]\n",
    "else:\n",
    "    sample = out\n",
    "sample = np.array(\n",
    "    [_.detach().numpy() for _ in sample],\n",
    ").reshape(-1, batch_size, dim)\n",
    "sample_ex2_final = sample[:,0,:]\n",
    "# print(sample_ex2_final.shape)"
   ]
  },
  {
   "cell_type": "code",
   "execution_count": 23,
   "id": "0b327d4b",
   "metadata": {
    "colab": {
     "base_uri": "https://localhost:8080/",
     "height": 281
    },
    "id": "0b327d4b",
    "outputId": "015d6fa8-1039-43e5-d1a9-4950767eff88"
   },
   "outputs": [
    {
     "data": {
      "image/png": "[encoded data removed]",
      "text/plain": [
       "<Figure size 640x480 with 1 Axes>"
      ]
     },
     "metadata": {},
     "output_type": "display_data"
    }
   ],
   "source": [
    "fig,ax=plt.subplots(1,1)\n",
    "ax.scatter(sample_ex2_final[:,0],sample_ex2_final[:,1], alphs=0.5)\n",
    "ax.set_title('Ex2 samples')\n",
    "plt.show()"
   ]
  },
  {
   "cell_type": "markdown",
   "id": "0023c116",
   "metadata": {
    "id": "0023c116"
   },
   "source": [
    "### Sample with Flex2MCMC (adaptive version)"
   ]
  },
  {
   "cell_type": "code",
   "execution_count": 24,
   "id": "33583bca",
   "metadata": {
    "id": "33583bca"
   },
   "outputs": [],
   "source": [
    "params_flex = {\n",
    "      \"N\": 200,\n",
    "      \"grad_step\": 0.2,\n",
    "      \"adapt_stepsize\": True,\n",
    "      \"corr_coef\": 0.0,\n",
    "      \"bernoulli_prob_corr\": 0.0,\n",
    "      \"mala_steps\": 0,\n",
    "    \"flow\": {\n",
    "      \"num_flows\": 4, # number of normalizing layers \n",
    "      \"lr\": 1e-3, # learning rate \n",
    "      \"batch_size\": 100,\n",
    "      \"n_steps\": 1000,\n",
    "    }\n",
    "}\n",
    "batch_size = 1\n",
    "torch.cuda.empty_cache()"
   ]
  },
  {
   "cell_type": "code",
   "execution_count": 27,
   "id": "6d5d2d67",
   "metadata": {
    "colab": {
     "base_uri": "https://localhost:8080/"
    },
    "id": "6d5d2d67",
    "outputId": "4dfcf0bb-748e-4573-a4c2-cca65e3b3564"
   },
   "outputs": [],
   "source": [
    "pyro.set_rng_seed(42)\n",
    "mcmc = Ex2MCMC(**params_flex, dim=dim)\n",
    "verbose = mcmc.verbose\n",
    "mcmc.verbose = False\n",
    "flow = RNVP(params_flex[\"flow\"][\"num_flows\"], dim=dim, device = device)\n",
    "flow_mcmc = FlowMCMC(\n",
    "    target,\n",
    "    proposal,\n",
    "    device,\n",
    "    flow,\n",
    "    mcmc,\n",
    "    batch_size=params_flex[\"flow\"][\"batch_size\"],\n",
    "    lr=params_flex[\"flow\"][\"lr\"],\n",
    ")\n",
    "flow.train()\n",
    "out_samples, nll = flow_mcmc.train(\n",
    "    n_steps=params_flex[\"flow\"][\"n_steps\"],\n",
    ")\n",
    "assert not torch.isnan(\n",
    "    next(flow.parameters())[0, 0],\n",
    ").item()\n",
    "gc.collect()\n",
    "torch.cuda.empty_cache()\n",
    "flow.eval()\n",
    "mcmc.flow = flow\n",
    "mcmc.verbose = verbose"
   ]
  },
  {
   "cell_type": "code",
   "execution_count": 28,
   "id": "0952eff0",
   "metadata": {
    "colab": {
     "base_uri": "https://localhost:8080/"
    },
    "id": "0952eff0",
    "outputId": "2b880794-6ee7-4b4f-8fa5-65a8955836f5"
   },
   "outputs": [
    {
     "name": "stderr",
     "output_type": "stream",
     "text": [
      "100%|██████████| 1000/1000 [00:06<00:00, 157.67it/s]\n",
      "100%|██████████| 1000/1000 [00:10<00:00, 97.59it/s]"
     ]
    },
    {
     "name": "stdout",
     "output_type": "stream",
     "text": [
      "tensor([0.4960])\n",
      "(1000, 1, 100)\n"
     ]
    },
    {
     "name": "stderr",
     "output_type": "stream",
     "text": [
      "\n"
     ]
    }
   ],
   "source": [
    "#sample from a normalizing flow\n",
    "n_steps_flex2 = 1000\n",
    "batch_size = 1\n",
    "pyro.set_rng_seed(42)\n",
    "start = proposal.sample((batch_size,))\n",
    "mcmc.N = 200\n",
    "mcmc.mala_steps = 0\n",
    "mcmc.grad_step = 0.1\n",
    "# s = time.time()\n",
    "out = mcmc(start, target, proposal, n_steps = n_steps_flex2)\n",
    "if isinstance(out, tuple):\n",
    "    sample = out[0]\n",
    "else:\n",
    "    sample = out\n",
    "sample = np.array(\n",
    "    [_.detach().numpy() for _ in sample],\n",
    ").reshape(-1, batch_size, dim)\n",
    "sample_flex2_new = sample\n",
    "#resample with 0 mala steps\n",
    "torch.cuda.empty_cache()\n",
    "mcmc.mala_steps = 3\n",
    "out_new = mcmc(start, target, proposal, n_steps = n_steps_flex2)\n",
    "print(out_new[1])\n",
    "out_new = out_new[0]\n",
    "out_new = np.array(\n",
    "    [_.detach().numpy() for _ in out_new],\n",
    ").reshape(-1, batch_size, dim)\n",
    "sample_flex2_final = out_new\n",
    "print(sample_flex2_final.shape)"
   ]
  },
  {
   "cell_type": "code",
   "execution_count": 29,
   "id": "18619667",
   "metadata": {
    "colab": {
     "base_uri": "https://localhost:8080/",
     "height": 281
    },
    "id": "18619667",
    "outputId": "26cf77f1-7e53-4f6c-c13f-10d3c00364a3"
   },
   "outputs": [
    {
     "data": {
      "image/png": "[encoded data removed]",
      "text/plain": [
       "<Figure size 640x480 with 1 Axes>"
      ]
     },
     "metadata": {},
     "output_type": "display_data"
    }
   ],
   "source": [
    "fig,ax=plt.subplots(1,1)\n",
    "ax.scatter(sample_flex2_final[:,0,0],sample_flex2_final[:,0,1],alpha = 0.5)\n",
    "ax.set_title('Flex2 samples')\n",
    "plt.show()"
   ]
  },
  {
   "cell_type": "code",
   "execution_count": 30,
   "id": "e4f33400",
   "metadata": {
    "colab": {
     "base_uri": "https://localhost:8080/",
     "height": 124,
     "referenced_widgets": [
      "482864453f6443a2ade10d43e54e4307",
      "39eb723490fa4a579f43c98ee0be6103",
      "d55f0d8ebce741a594cfd634894c57fe",
      "c694fe9d883949d39b4ddea13f81c0cf",
      "5286abafd77c493ab86275ae0288a773",
      "6e422439139b4ed3b063b97703f04ec7",
      "9664039d84644907a81f0eb71b50d321",
      "6fdc3d5d7db94780a2cfeffa1bdb0dda",
      "e530f320c4004443a02393c97d3133ad",
      "bb5742bbbe2b4a16ba934289013f480e",
      "9adf6c4e07b3444884e8b9e44c90599b"
     ]
    },
    "id": "e4f33400",
    "outputId": "13e0079e-1770-4be6-da3e-0fd99d32cead"
   },
   "outputs": [
    {
     "name": "stdout",
     "output_type": "stream",
     "text": [
      "(1000, 100)\n",
      "(1000, 1, 100)\n"
     ]
    },
    {
     "data": {
      "application/vnd.jupyter.widget-view+json": {
       "model_id": "e16136af36074e7fa729385097141f2a",
       "version_major": 2,
       "version_minor": 0
      },
      "text/plain": [
       "  0%|          | 0/25 [00:00<?, ?it/s]"
      ]
     },
     "metadata": {},
     "output_type": "display_data"
    },
    {
     "name": "stdout",
     "output_type": "stream",
     "text": [
      "====Flex2====\n",
      "TV distance. Mean: 0.062, Std: 0.016. \n",
      "ESS: 0.229 \n",
      "EMD: 923.894\n"
     ]
    }
   ],
   "source": [
    "metrics = compute_metrics(\n",
    "                    True_samples,\n",
    "                    sample_flex2_final,\n",
    "                    name=\"Flex2\",\n",
    "                    trunc_chain_len=trunc_chain_len,\n",
    "                    ess_rar=1,\n",
    ")"
   ]
  },
  {
   "cell_type": "code",
   "execution_count": 31,
   "id": "0B7lsVJh5Xnl",
   "metadata": {
    "colab": {
     "base_uri": "https://localhost:8080/",
     "height": 142,
     "referenced_widgets": [
      "e07cdc5b251e412b8c5f7379426bd5d5",
      "ef563d44971b4b39b7c2ede3fce718bc",
      "59da96e3060444e2a69b91fb140f051c",
      "b554819dea774a48b84fcb5fd89fb984",
      "7208f2d1c36146f4b05eee298e80d932",
      "ce733334049d4a8b85c139f1553e2cd1",
      "c72281e815934a93904b83ae3788d817",
      "f910ea282d8b436b8ce0b544d3a0264a",
      "716d52d6df2b4860bdbce7f2392911bf",
      "46afcb48b5f84dfa95c985a5c212f1d1",
      "4b67eb1cfedf49b2aab57c53eb257af6"
     ]
    },
    "id": "0B7lsVJh5Xnl",
    "outputId": "13a75b96-c766-4457-f388-8542f29ea73b"
   },
   "outputs": [
    {
     "name": "stdout",
     "output_type": "stream",
     "text": [
      "(2000, 1, 200)\n",
      "(2000, 200)\n",
      "(1000, 1, 200)\n"
     ]
    },
    {
     "data": {
      "application/vnd.jupyter.widget-view+json": {
       "model_id": "cf2433329f9245eeb39626aa10ed7733",
       "version_major": 2,
       "version_minor": 0
      },
      "text/plain": [
       "  0%|          | 0/25 [00:00<?, ?it/s]"
      ]
     },
     "metadata": {},
     "output_type": "display_data"
    },
    {
     "name": "stdout",
     "output_type": "stream",
     "text": [
      "====Gaussian noise====\n",
      "TV distance. Mean: 0.035, Std: 0.009. \n",
      "ESS: 0.832 \n",
      "EMD: 311.477\n"
     ]
    }
   ],
   "source": [
    "dim = 200\n",
    "loc_proposal = torch.zeros(dim).to(device)\n",
    "scale_proposal = 1.0 * torch.ones(dim).to(device)\n",
    "#scale_isir = scale_isir * torch.ones(dim).to(device)\n",
    "\n",
    "proposal = IndependentNormal(\n",
    "        dim=dim,\n",
    "        loc=loc_proposal,\n",
    "        scale=scale_proposal,\n",
    "        device=device,\n",
    ")\n",
    "\n",
    "n_samples = 2000\n",
    "pyro.set_rng_seed(42)\n",
    "sample_2 = proposal.sample((n_samples,))\n",
    "sample_2 = sample_2.unsqueeze(1).cpu().numpy()\n",
    "print(sample_2.shape)\n",
    "sample_1 = proposal.sample((n_samples,)).cpu().numpy()\n",
    "metrics = compute_metrics(\n",
    "                    sample_1,\n",
    "                    sample_2,\n",
    "                    name=\"Gaussian noise\",\n",
    "                    trunc_chain_len=trunc_chain_len,\n",
    "                    ess_rar=1,\n",
    ")"
   ]
  },
  {
   "cell_type": "code",
   "execution_count": 32,
   "id": "341648eb",
   "metadata": {
    "colab": {
     "base_uri": "https://localhost:8080/"
    },
    "id": "341648eb",
    "outputId": "885286c2-3f74-40b5-cca0-9f5e9fd91493"
   },
   "outputs": [
    {
     "name": "stdout",
     "output_type": "stream",
     "text": [
      "139\n",
      "222\n",
      "90\n"
     ]
    }
   ],
   "source": [
    "print(np.sum(True_samples[:,0] < -2))\n",
    "print(np.sum(sample_nuts_ref[:,0,0] < -2))\n",
    "print(np.sum(sample_flex2_final[:,0,0] < -2))"
   ]
  },
  {
   "cell_type": "code",
   "execution_count": 33,
   "id": "b0b7c146",
   "metadata": {
    "colab": {
     "base_uri": "https://localhost:8080/",
     "height": 280
    },
    "id": "b0b7c146",
    "outputId": "24e95ab7-9f85-4a33-bf75-38c28455ed02"
   },
   "outputs": [
    {
     "data": {
      "image/png": "[encoded data removed]",
      "text/plain": [
       "<Figure size 1200x400 with 2 Axes>"
      ]
     },
     "metadata": {},
     "output_type": "display_data"
    }
   ],
   "source": [
    "fig, axs = plt.subplots(1,2,figsize=(12,4))\n",
    "\n",
    "axs[0].scatter(True_samples[:,0],True_samples[:,1],c='#ff7f0e', alpha = 0.7, label = \"True samples\")\n",
    "axs[0].scatter(sample_flex2_final[:,0,0],sample_flex2_final[:,0,1],c='#1f77b4', alpha = 0.7, label = \"Flex$^2$MCMC, 5 MALA steps\")\n",
    "#ax.scatter(sample_ex2_final[:,0],sample_ex2_final[:,1],c='#ff7f0e',label = \"Ex2 samples\")\n",
    "#ax.scatter(sample_flex2_final[:,0,0],sample_flex2_final[:,0,1],c='#1f77b4',label = \"Flex samples\")\n",
    "#ax.scatter(sample_ex2_final[:,0],sample_ex2_final[:,1],c='#ff7f0e',label = \"Ex2 samples\")\n",
    "\n",
    "axs[1].scatter(True_samples[:,0],True_samples[:,1],c='#ff7f0e', alpha = 0.7, label = \"True samples\")\n",
    "axs[1].scatter(sample_nuts_ref[:,0,0],sample_nuts_ref[:,0,1],c='#1f77b4', alpha = 0.7, label = \"NUTS samples\")\n",
    "\n",
    "for ax in axs:\n",
    "    ax.set_xlabel(r'$x_1$')\n",
    "    ax.set_ylabel(r'$x_2$')\n",
    "\n",
    "\n",
    "plt.legend(fontsize=14)\n",
    "plt.show()"
   ]
  },
  {
   "cell_type": "code",
   "execution_count": null,
   "id": "0801a863",
   "metadata": {
    "id": "0801a863"
   },
   "outputs": [],
   "source": []
  }
 ],
 "metadata": {
  "accelerator": "GPU",
  "colab": {
   "collapsed_sections": [],
   "name": "Копия блокнота \"Копия блокнота \"Копия блокнота \"sample_funnel_distribution.ipynb\"\"\"",
   "provenance": []
  },
  "kernelspec": {
   "display_name": "Python 3",
   "language": "python",
   "name": "python3"
  },
  "language_info": {
   "codemirror_mode": {
    "name": "ipython",
    "version": 3
   },
   "file_extension": ".py",
   "mimetype": "text/x-python",
   "name": "python",
   "nbconvert_exporter": "python",
   "pygments_lexer": "ipython3",
   "version": "3.8.16"
  },
  "widgets": {
   "application/vnd.jupyter.widget-state+json": {
    "190f7afbb2b94a479b1bb81b06ac4dce": {
     "model_module": "@jupyter-widgets/controls",
     "model_module_version": "1.5.0",
     "model_name": "HTMLModel",
     "state": {
      "_dom_classes": [],
      "_model_module": "@jupyter-widgets/controls",
      "_model_module_version": "1.5.0",
      "_model_name": "HTMLModel",
      "_view_count": null,
      "_view_module": "@jupyter-widgets/controls",
      "_view_module_version": "1.5.0",
      "_view_name": "HTMLView",
      "description": "",
      "description_tooltip": null,
      "layout": "IPY_MODEL_3733841a2779415c8c76ae3a4b4450a1",
      "placeholder": "​",
      "style": "IPY_MODEL_c8f66e77cfcd4560b9fccf48f3eed9bc",
      "value": " 25/25 [00:02&lt;00:00,  9.69it/s]"
     }
    },
    "1ce1080c688a4d99b3b74213de62ff86": {
     "model_module": "@jupyter-widgets/controls",
     "model_module_version": "1.5.0",
     "model_name": "HBoxModel",
     "state": {
      "_dom_classes": [],
      "_model_module": "@jupyter-widgets/controls",
      "_model_module_version": "1.5.0",
      "_model_name": "HBoxModel",
      "_view_count": null,
      "_view_module": "@jupyter-widgets/controls",
      "_view_module_version": "1.5.0",
      "_view_name": "HBoxView",
      "box_style": "",
      "children": [
       "IPY_MODEL_8605fd14ffd64e1dbe051837d460ce1e",
       "IPY_MODEL_4ecc02fdd870427e89170d0f5cce0e4f",
       "IPY_MODEL_190f7afbb2b94a479b1bb81b06ac4dce"
      ],
      "layout": "IPY_MODEL_562e3c94ef4a40e1a5544d3876cd2e5e"
     }
    },
    "3733841a2779415c8c76ae3a4b4450a1": {
     "model_module": "@jupyter-widgets/base",
     "model_module_version": "1.2.0",
     "model_name": "LayoutModel",
     "state": {
      "_model_module": "@jupyter-widgets/base",
      "_model_module_version": "1.2.0",
      "_model_name": "LayoutModel",
      "_view_count": null,
      "_view_module": "@jupyter-widgets/base",
      "_view_module_version": "1.2.0",
      "_view_name": "LayoutView",
      "align_content": null,
      "align_items": null,
      "align_self": null,
      "border": null,
      "bottom": null,
      "display": null,
      "flex": null,
      "flex_flow": null,
      "grid_area": null,
      "grid_auto_columns": null,
      "grid_auto_flow": null,
      "grid_auto_rows": null,
      "grid_column": null,
      "grid_gap": null,
      "grid_row": null,
      "grid_template_areas": null,
      "grid_template_columns": null,
      "grid_template_rows": null,
      "height": null,
      "justify_content": null,
      "justify_items": null,
      "left": null,
      "margin": null,
      "max_height": null,
      "max_width": null,
      "min_height": null,
      "min_width": null,
      "object_fit": null,
      "object_position": null,
      "order": null,
      "overflow": null,
      "overflow_x": null,
      "overflow_y": null,
      "padding": null,
      "right": null,
      "top": null,
      "visibility": null,
      "width": null
     }
    },
    "39eb723490fa4a579f43c98ee0be6103": {
     "model_module": "@jupyter-widgets/controls",
     "model_module_version": "1.5.0",
     "model_name": "HTMLModel",
     "state": {
      "_dom_classes": [],
      "_model_module": "@jupyter-widgets/controls",
      "_model_module_version": "1.5.0",
      "_model_name": "HTMLModel",
      "_view_count": null,
      "_view_module": "@jupyter-widgets/controls",
      "_view_module_version": "1.5.0",
      "_view_name": "HTMLView",
      "description": "",
      "description_tooltip": null,
      "layout": "IPY_MODEL_6e422439139b4ed3b063b97703f04ec7",
      "placeholder": "​",
      "style": "IPY_MODEL_9664039d84644907a81f0eb71b50d321",
      "value": "100%"
     }
    },
    "46afcb48b5f84dfa95c985a5c212f1d1": {
     "model_module": "@jupyter-widgets/base",
     "model_module_version": "1.2.0",
     "model_name": "LayoutModel",
     "state": {
      "_model_module": "@jupyter-widgets/base",
      "_model_module_version": "1.2.0",
      "_model_name": "LayoutModel",
      "_view_count": null,
      "_view_module": "@jupyter-widgets/base",
      "_view_module_version": "1.2.0",
      "_view_name": "LayoutView",
      "align_content": null,
      "align_items": null,
      "align_self": null,
      "border": null,
      "bottom": null,
      "display": null,
      "flex": null,
      "flex_flow": null,
      "grid_area": null,
      "grid_auto_columns": null,
      "grid_auto_flow": null,
      "grid_auto_rows": null,
      "grid_column": null,
      "grid_gap": null,
      "grid_row": null,
      "grid_template_areas": null,
      "grid_template_columns": null,
      "grid_template_rows": null,
      "height": null,
      "justify_content": null,
      "justify_items": null,
      "left": null,
      "margin": null,
      "max_height": null,
      "max_width": null,
      "min_height": null,
      "min_width": null,
      "object_fit": null,
      "object_position": null,
      "order": null,
      "overflow": null,
      "overflow_x": null,
      "overflow_y": null,
      "padding": null,
      "right": null,
      "top": null,
      "visibility": null,
      "width": null
     }
    },
    "482864453f6443a2ade10d43e54e4307": {
     "model_module": "@jupyter-widgets/controls",
     "model_module_version": "1.5.0",
     "model_name": "HBoxModel",
     "state": {
      "_dom_classes": [],
      "_model_module": "@jupyter-widgets/controls",
      "_model_module_version": "1.5.0",
      "_model_name": "HBoxModel",
      "_view_count": null,
      "_view_module": "@jupyter-widgets/controls",
      "_view_module_version": "1.5.0",
      "_view_name": "HBoxView",
      "box_style": "",
      "children": [
       "IPY_MODEL_39eb723490fa4a579f43c98ee0be6103",
       "IPY_MODEL_d55f0d8ebce741a594cfd634894c57fe",
       "IPY_MODEL_c694fe9d883949d39b4ddea13f81c0cf"
      ],
      "layout": "IPY_MODEL_5286abafd77c493ab86275ae0288a773"
     }
    },
    "4b67eb1cfedf49b2aab57c53eb257af6": {
     "model_module": "@jupyter-widgets/controls",
     "model_module_version": "1.5.0",
     "model_name": "DescriptionStyleModel",
     "state": {
      "_model_module": "@jupyter-widgets/controls",
      "_model_module_version": "1.5.0",
      "_model_name": "DescriptionStyleModel",
      "_view_count": null,
      "_view_module": "@jupyter-widgets/base",
      "_view_module_version": "1.2.0",
      "_view_name": "StyleView",
      "description_width": ""
     }
    },
    "4ecc02fdd870427e89170d0f5cce0e4f": {
     "model_module": "@jupyter-widgets/controls",
     "model_module_version": "1.5.0",
     "model_name": "FloatProgressModel",
     "state": {
      "_dom_classes": [],
      "_model_module": "@jupyter-widgets/controls",
      "_model_module_version": "1.5.0",
      "_model_name": "FloatProgressModel",
      "_view_count": null,
      "_view_module": "@jupyter-widgets/controls",
      "_view_module_version": "1.5.0",
      "_view_name": "ProgressView",
      "bar_style": "",
      "description": "",
      "description_tooltip": null,
      "layout": "IPY_MODEL_ad76e1f16b6c4cb3b7fd68a0bd9748e1",
      "max": 25,
      "min": 0,
      "orientation": "horizontal",
      "style": "IPY_MODEL_ad86f6bf15824a018b2193bbbe990001",
      "value": 25
     }
    },
    "5286abafd77c493ab86275ae0288a773": {
     "model_module": "@jupyter-widgets/base",
     "model_module_version": "1.2.0",
     "model_name": "LayoutModel",
     "state": {
      "_model_module": "@jupyter-widgets/base",
      "_model_module_version": "1.2.0",
      "_model_name": "LayoutModel",
      "_view_count": null,
      "_view_module": "@jupyter-widgets/base",
      "_view_module_version": "1.2.0",
      "_view_name": "LayoutView",
      "align_content": null,
      "align_items": null,
      "align_self": null,
      "border": null,
      "bottom": null,
      "display": null,
      "flex": null,
      "flex_flow": null,
      "grid_area": null,
      "grid_auto_columns": null,
      "grid_auto_flow": null,
      "grid_auto_rows": null,
      "grid_column": null,
      "grid_gap": null,
      "grid_row": null,
      "grid_template_areas": null,
      "grid_template_columns": null,
      "grid_template_rows": null,
      "height": null,
      "justify_content": null,
      "justify_items": null,
      "left": null,
      "margin": null,
      "max_height": null,
      "max_width": null,
      "min_height": null,
      "min_width": null,
      "object_fit": null,
      "object_position": null,
      "order": null,
      "overflow": null,
      "overflow_x": null,
      "overflow_y": null,
      "padding": null,
      "right": null,
      "top": null,
      "visibility": null,
      "width": null
     }
    },
    "562e3c94ef4a40e1a5544d3876cd2e5e": {
     "model_module": "@jupyter-widgets/base",
     "model_module_version": "1.2.0",
     "model_name": "LayoutModel",
     "state": {
      "_model_module": "@jupyter-widgets/base",
      "_model_module_version": "1.2.0",
      "_model_name": "LayoutModel",
      "_view_count": null,
      "_view_module": "@jupyter-widgets/base",
      "_view_module_version": "1.2.0",
      "_view_name": "LayoutView",
      "align_content": null,
      "align_items": null,
      "align_self": null,
      "border": null,
      "bottom": null,
      "display": null,
      "flex": null,
      "flex_flow": null,
      "grid_area": null,
      "grid_auto_columns": null,
      "grid_auto_flow": null,
      "grid_auto_rows": null,
      "grid_column": null,
      "grid_gap": null,
      "grid_row": null,
      "grid_template_areas": null,
      "grid_template_columns": null,
      "grid_template_rows": null,
      "height": null,
      "justify_content": null,
      "justify_items": null,
      "left": null,
      "margin": null,
      "max_height": null,
      "max_width": null,
      "min_height": null,
      "min_width": null,
      "object_fit": null,
      "object_position": null,
      "order": null,
      "overflow": null,
      "overflow_x": null,
      "overflow_y": null,
      "padding": null,
      "right": null,
      "top": null,
      "visibility": null,
      "width": null
     }
    },
    "59da96e3060444e2a69b91fb140f051c": {
     "model_module": "@jupyter-widgets/controls",
     "model_module_version": "1.5.0",
     "model_name": "FloatProgressModel",
     "state": {
      "_dom_classes": [],
      "_model_module": "@jupyter-widgets/controls",
      "_model_module_version": "1.5.0",
      "_model_name": "FloatProgressModel",
      "_view_count": null,
      "_view_module": "@jupyter-widgets/controls",
      "_view_module_version": "1.5.0",
      "_view_name": "ProgressView",
      "bar_style": "",
      "description": "",
      "description_tooltip": null,
      "layout": "IPY_MODEL_f910ea282d8b436b8ce0b544d3a0264a",
      "max": 25,
      "min": 0,
      "orientation": "horizontal",
      "style": "IPY_MODEL_716d52d6df2b4860bdbce7f2392911bf",
      "value": 25
     }
    },
    "6e422439139b4ed3b063b97703f04ec7": {
     "model_module": "@jupyter-widgets/base",
     "model_module_version": "1.2.0",
     "model_name": "LayoutModel",
     "state": {
      "_model_module": "@jupyter-widgets/base",
      "_model_module_version": "1.2.0",
      "_model_name": "LayoutModel",
      "_view_count": null,
      "_view_module": "@jupyter-widgets/base",
      "_view_module_version": "1.2.0",
      "_view_name": "LayoutView",
      "align_content": null,
      "align_items": null,
      "align_self": null,
      "border": null,
      "bottom": null,
      "display": null,
      "flex": null,
      "flex_flow": null,
      "grid_area": null,
      "grid_auto_columns": null,
      "grid_auto_flow": null,
      "grid_auto_rows": null,
      "grid_column": null,
      "grid_gap": null,
      "grid_row": null,
      "grid_template_areas": null,
      "grid_template_columns": null,
      "grid_template_rows": null,
      "height": null,
      "justify_content": null,
      "justify_items": null,
      "left": null,
      "margin": null,
      "max_height": null,
      "max_width": null,
      "min_height": null,
      "min_width": null,
      "object_fit": null,
      "object_position": null,
      "order": null,
      "overflow": null,
      "overflow_x": null,
      "overflow_y": null,
      "padding": null,
      "right": null,
      "top": null,
      "visibility": null,
      "width": null
     }
    },
    "6fdc3d5d7db94780a2cfeffa1bdb0dda": {
     "model_module": "@jupyter-widgets/base",
     "model_module_version": "1.2.0",
     "model_name": "LayoutModel",
     "state": {
      "_model_module": "@jupyter-widgets/base",
      "_model_module_version": "1.2.0",
      "_model_name": "LayoutModel",
      "_view_count": null,
      "_view_module": "@jupyter-widgets/base",
      "_view_module_version": "1.2.0",
      "_view_name": "LayoutView",
      "align_content": null,
      "align_items": null,
      "align_self": null,
      "border": null,
      "bottom": null,
      "display": null,
      "flex": null,
      "flex_flow": null,
      "grid_area": null,
      "grid_auto_columns": null,
      "grid_auto_flow": null,
      "grid_auto_rows": null,
      "grid_column": null,
      "grid_gap": null,
      "grid_row": null,
      "grid_template_areas": null,
      "grid_template_columns": null,
      "grid_template_rows": null,
      "height": null,
      "justify_content": null,
      "justify_items": null,
      "left": null,
      "margin": null,
      "max_height": null,
      "max_width": null,
      "min_height": null,
      "min_width": null,
      "object_fit": null,
      "object_position": null,
      "order": null,
      "overflow": null,
      "overflow_x": null,
      "overflow_y": null,
      "padding": null,
      "right": null,
      "top": null,
      "visibility": null,
      "width": null
     }
    },
    "716d52d6df2b4860bdbce7f2392911bf": {
     "model_module": "@jupyter-widgets/controls",
     "model_module_version": "1.5.0",
     "model_name": "ProgressStyleModel",
     "state": {
      "_model_module": "@jupyter-widgets/controls",
      "_model_module_version": "1.5.0",
      "_model_name": "ProgressStyleModel",
      "_view_count": null,
      "_view_module": "@jupyter-widgets/base",
      "_view_module_version": "1.2.0",
      "_view_name": "StyleView",
      "bar_color": null,
      "description_width": ""
     }
    },
    "7208f2d1c36146f4b05eee298e80d932": {
     "model_module": "@jupyter-widgets/base",
     "model_module_version": "1.2.0",
     "model_name": "LayoutModel",
     "state": {
      "_model_module": "@jupyter-widgets/base",
      "_model_module_version": "1.2.0",
      "_model_name": "LayoutModel",
      "_view_count": null,
      "_view_module": "@jupyter-widgets/base",
      "_view_module_version": "1.2.0",
      "_view_name": "LayoutView",
      "align_content": null,
      "align_items": null,
      "align_self": null,
      "border": null,
      "bottom": null,
      "display": null,
      "flex": null,
      "flex_flow": null,
      "grid_area": null,
      "grid_auto_columns": null,
      "grid_auto_flow": null,
      "grid_auto_rows": null,
      "grid_column": null,
      "grid_gap": null,
      "grid_row": null,
      "grid_template_areas": null,
      "grid_template_columns": null,
      "grid_template_rows": null,
      "height": null,
      "justify_content": null,
      "justify_items": null,
      "left": null,
      "margin": null,
      "max_height": null,
      "max_width": null,
      "min_height": null,
      "min_width": null,
      "object_fit": null,
      "object_position": null,
      "order": null,
      "overflow": null,
      "overflow_x": null,
      "overflow_y": null,
      "padding": null,
      "right": null,
      "top": null,
      "visibility": null,
      "width": null
     }
    },
    "8605fd14ffd64e1dbe051837d460ce1e": {
     "model_module": "@jupyter-widgets/controls",
     "model_module_version": "1.5.0",
     "model_name": "HTMLModel",
     "state": {
      "_dom_classes": [],
      "_model_module": "@jupyter-widgets/controls",
      "_model_module_version": "1.5.0",
      "_model_name": "HTMLModel",
      "_view_count": null,
      "_view_module": "@jupyter-widgets/controls",
      "_view_module_version": "1.5.0",
      "_view_name": "HTMLView",
      "description": "",
      "description_tooltip": null,
      "layout": "IPY_MODEL_8f8359f0b14a4de6aebbb430418165c5",
      "placeholder": "​",
      "style": "IPY_MODEL_f39cede371a54a83ba53a5c477ec4f42",
      "value": "100%"
     }
    },
    "8f8359f0b14a4de6aebbb430418165c5": {
     "model_module": "@jupyter-widgets/base",
     "model_module_version": "1.2.0",
     "model_name": "LayoutModel",
     "state": {
      "_model_module": "@jupyter-widgets/base",
      "_model_module_version": "1.2.0",
      "_model_name": "LayoutModel",
      "_view_count": null,
      "_view_module": "@jupyter-widgets/base",
      "_view_module_version": "1.2.0",
      "_view_name": "LayoutView",
      "align_content": null,
      "align_items": null,
      "align_self": null,
      "border": null,
      "bottom": null,
      "display": null,
      "flex": null,
      "flex_flow": null,
      "grid_area": null,
      "grid_auto_columns": null,
      "grid_auto_flow": null,
      "grid_auto_rows": null,
      "grid_column": null,
      "grid_gap": null,
      "grid_row": null,
      "grid_template_areas": null,
      "grid_template_columns": null,
      "grid_template_rows": null,
      "height": null,
      "justify_content": null,
      "justify_items": null,
      "left": null,
      "margin": null,
      "max_height": null,
      "max_width": null,
      "min_height": null,
      "min_width": null,
      "object_fit": null,
      "object_position": null,
      "order": null,
      "overflow": null,
      "overflow_x": null,
      "overflow_y": null,
      "padding": null,
      "right": null,
      "top": null,
      "visibility": null,
      "width": null
     }
    },
    "9664039d84644907a81f0eb71b50d321": {
     "model_module": "@jupyter-widgets/controls",
     "model_module_version": "1.5.0",
     "model_name": "DescriptionStyleModel",
     "state": {
      "_model_module": "@jupyter-widgets/controls",
      "_model_module_version": "1.5.0",
      "_model_name": "DescriptionStyleModel",
      "_view_count": null,
      "_view_module": "@jupyter-widgets/base",
      "_view_module_version": "1.2.0",
      "_view_name": "StyleView",
      "description_width": ""
     }
    },
    "9adf6c4e07b3444884e8b9e44c90599b": {
     "model_module": "@jupyter-widgets/controls",
     "model_module_version": "1.5.0",
     "model_name": "DescriptionStyleModel",
     "state": {
      "_model_module": "@jupyter-widgets/controls",
      "_model_module_version": "1.5.0",
      "_model_name": "DescriptionStyleModel",
      "_view_count": null,
      "_view_module": "@jupyter-widgets/base",
      "_view_module_version": "1.2.0",
      "_view_name": "StyleView",
      "description_width": ""
     }
    },
    "ad76e1f16b6c4cb3b7fd68a0bd9748e1": {
     "model_module": "@jupyter-widgets/base",
     "model_module_version": "1.2.0",
     "model_name": "LayoutModel",
     "state": {
      "_model_module": "@jupyter-widgets/base",
      "_model_module_version": "1.2.0",
      "_model_name": "LayoutModel",
      "_view_count": null,
      "_view_module": "@jupyter-widgets/base",
      "_view_module_version": "1.2.0",
      "_view_name": "LayoutView",
      "align_content": null,
      "align_items": null,
      "align_self": null,
      "border": null,
      "bottom": null,
      "display": null,
      "flex": null,
      "flex_flow": null,
      "grid_area": null,
      "grid_auto_columns": null,
      "grid_auto_flow": null,
      "grid_auto_rows": null,
      "grid_column": null,
      "grid_gap": null,
      "grid_row": null,
      "grid_template_areas": null,
      "grid_template_columns": null,
      "grid_template_rows": null,
      "height": null,
      "justify_content": null,
      "justify_items": null,
      "left": null,
      "margin": null,
      "max_height": null,
      "max_width": null,
      "min_height": null,
      "min_width": null,
      "object_fit": null,
      "object_position": null,
      "order": null,
      "overflow": null,
      "overflow_x": null,
      "overflow_y": null,
      "padding": null,
      "right": null,
      "top": null,
      "visibility": null,
      "width": null
     }
    },
    "ad86f6bf15824a018b2193bbbe990001": {
     "model_module": "@jupyter-widgets/controls",
     "model_module_version": "1.5.0",
     "model_name": "ProgressStyleModel",
     "state": {
      "_model_module": "@jupyter-widgets/controls",
      "_model_module_version": "1.5.0",
      "_model_name": "ProgressStyleModel",
      "_view_count": null,
      "_view_module": "@jupyter-widgets/base",
      "_view_module_version": "1.2.0",
      "_view_name": "StyleView",
      "bar_color": null,
      "description_width": ""
     }
    },
    "b554819dea774a48b84fcb5fd89fb984": {
     "model_module": "@jupyter-widgets/controls",
     "model_module_version": "1.5.0",
     "model_name": "HTMLModel",
     "state": {
      "_dom_classes": [],
      "_model_module": "@jupyter-widgets/controls",
      "_model_module_version": "1.5.0",
      "_model_name": "HTMLModel",
      "_view_count": null,
      "_view_module": "@jupyter-widgets/controls",
      "_view_module_version": "1.5.0",
      "_view_name": "HTMLView",
      "description": "",
      "description_tooltip": null,
      "layout": "IPY_MODEL_46afcb48b5f84dfa95c985a5c212f1d1",
      "placeholder": "​",
      "style": "IPY_MODEL_4b67eb1cfedf49b2aab57c53eb257af6",
      "value": " 25/25 [00:03&lt;00:00, 10.37it/s]"
     }
    },
    "bb5742bbbe2b4a16ba934289013f480e": {
     "model_module": "@jupyter-widgets/base",
     "model_module_version": "1.2.0",
     "model_name": "LayoutModel",
     "state": {
      "_model_module": "@jupyter-widgets/base",
      "_model_module_version": "1.2.0",
      "_model_name": "LayoutModel",
      "_view_count": null,
      "_view_module": "@jupyter-widgets/base",
      "_view_module_version": "1.2.0",
      "_view_name": "LayoutView",
      "align_content": null,
      "align_items": null,
      "align_self": null,
      "border": null,
      "bottom": null,
      "display": null,
      "flex": null,
      "flex_flow": null,
      "grid_area": null,
      "grid_auto_columns": null,
      "grid_auto_flow": null,
      "grid_auto_rows": null,
      "grid_column": null,
      "grid_gap": null,
      "grid_row": null,
      "grid_template_areas": null,
      "grid_template_columns": null,
      "grid_template_rows": null,
      "height": null,
      "justify_content": null,
      "justify_items": null,
      "left": null,
      "margin": null,
      "max_height": null,
      "max_width": null,
      "min_height": null,
      "min_width": null,
      "object_fit": null,
      "object_position": null,
      "order": null,
      "overflow": null,
      "overflow_x": null,
      "overflow_y": null,
      "padding": null,
      "right": null,
      "top": null,
      "visibility": null,
      "width": null
     }
    },
    "c694fe9d883949d39b4ddea13f81c0cf": {
     "model_module": "@jupyter-widgets/controls",
     "model_module_version": "1.5.0",
     "model_name": "HTMLModel",
     "state": {
      "_dom_classes": [],
      "_model_module": "@jupyter-widgets/controls",
      "_model_module_version": "1.5.0",
      "_model_name": "HTMLModel",
      "_view_count": null,
      "_view_module": "@jupyter-widgets/controls",
      "_view_module_version": "1.5.0",
      "_view_name": "HTMLView",
      "description": "",
      "description_tooltip": null,
      "layout": "IPY_MODEL_bb5742bbbe2b4a16ba934289013f480e",
      "placeholder": "​",
      "style": "IPY_MODEL_9adf6c4e07b3444884e8b9e44c90599b",
      "value": " 25/25 [00:02&lt;00:00,  9.45it/s]"
     }
    },
    "c72281e815934a93904b83ae3788d817": {
     "model_module": "@jupyter-widgets/controls",
     "model_module_version": "1.5.0",
     "model_name": "DescriptionStyleModel",
     "state": {
      "_model_module": "@jupyter-widgets/controls",
      "_model_module_version": "1.5.0",
      "_model_name": "DescriptionStyleModel",
      "_view_count": null,
      "_view_module": "@jupyter-widgets/base",
      "_view_module_version": "1.2.0",
      "_view_name": "StyleView",
      "description_width": ""
     }
    },
    "c8f66e77cfcd4560b9fccf48f3eed9bc": {
     "model_module": "@jupyter-widgets/controls",
     "model_module_version": "1.5.0",
     "model_name": "DescriptionStyleModel",
     "state": {
      "_model_module": "@jupyter-widgets/controls",
      "_model_module_version": "1.5.0",
      "_model_name": "DescriptionStyleModel",
      "_view_count": null,
      "_view_module": "@jupyter-widgets/base",
      "_view_module_version": "1.2.0",
      "_view_name": "StyleView",
      "description_width": ""
     }
    },
    "ce733334049d4a8b85c139f1553e2cd1": {
     "model_module": "@jupyter-widgets/base",
     "model_module_version": "1.2.0",
     "model_name": "LayoutModel",
     "state": {
      "_model_module": "@jupyter-widgets/base",
      "_model_module_version": "1.2.0",
      "_model_name": "LayoutModel",
      "_view_count": null,
      "_view_module": "@jupyter-widgets/base",
      "_view_module_version": "1.2.0",
      "_view_name": "LayoutView",
      "align_content": null,
      "align_items": null,
      "align_self": null,
      "border": null,
      "bottom": null,
      "display": null,
      "flex": null,
      "flex_flow": null,
      "grid_area": null,
      "grid_auto_columns": null,
      "grid_auto_flow": null,
      "grid_auto_rows": null,
      "grid_column": null,
      "grid_gap": null,
      "grid_row": null,
      "grid_template_areas": null,
      "grid_template_columns": null,
      "grid_template_rows": null,
      "height": null,
      "justify_content": null,
      "justify_items": null,
      "left": null,
      "margin": null,
      "max_height": null,
      "max_width": null,
      "min_height": null,
      "min_width": null,
      "object_fit": null,
      "object_position": null,
      "order": null,
      "overflow": null,
      "overflow_x": null,
      "overflow_y": null,
      "padding": null,
      "right": null,
      "top": null,
      "visibility": null,
      "width": null
     }
    },
    "d55f0d8ebce741a594cfd634894c57fe": {
     "model_module": "@jupyter-widgets/controls",
     "model_module_version": "1.5.0",
     "model_name": "FloatProgressModel",
     "state": {
      "_dom_classes": [],
      "_model_module": "@jupyter-widgets/controls",
      "_model_module_version": "1.5.0",
      "_model_name": "FloatProgressModel",
      "_view_count": null,
      "_view_module": "@jupyter-widgets/controls",
      "_view_module_version": "1.5.0",
      "_view_name": "ProgressView",
      "bar_style": "",
      "description": "",
      "description_tooltip": null,
      "layout": "IPY_MODEL_6fdc3d5d7db94780a2cfeffa1bdb0dda",
      "max": 25,
      "min": 0,
      "orientation": "horizontal",
      "style": "IPY_MODEL_e530f320c4004443a02393c97d3133ad",
      "value": 25
     }
    },
    "e07cdc5b251e412b8c5f7379426bd5d5": {
     "model_module": "@jupyter-widgets/controls",
     "model_module_version": "1.5.0",
     "model_name": "HBoxModel",
     "state": {
      "_dom_classes": [],
      "_model_module": "@jupyter-widgets/controls",
      "_model_module_version": "1.5.0",
      "_model_name": "HBoxModel",
      "_view_count": null,
      "_view_module": "@jupyter-widgets/controls",
      "_view_module_version": "1.5.0",
      "_view_name": "HBoxView",
      "box_style": "",
      "children": [
       "IPY_MODEL_ef563d44971b4b39b7c2ede3fce718bc",
       "IPY_MODEL_59da96e3060444e2a69b91fb140f051c",
       "IPY_MODEL_b554819dea774a48b84fcb5fd89fb984"
      ],
      "layout": "IPY_MODEL_7208f2d1c36146f4b05eee298e80d932"
     }
    },
    "e530f320c4004443a02393c97d3133ad": {
     "model_module": "@jupyter-widgets/controls",
     "model_module_version": "1.5.0",
     "model_name": "ProgressStyleModel",
     "state": {
      "_model_module": "@jupyter-widgets/controls",
      "_model_module_version": "1.5.0",
      "_model_name": "ProgressStyleModel",
      "_view_count": null,
      "_view_module": "@jupyter-widgets/base",
      "_view_module_version": "1.2.0",
      "_view_name": "StyleView",
      "bar_color": null,
      "description_width": ""
     }
    },
    "ef563d44971b4b39b7c2ede3fce718bc": {
     "model_module": "@jupyter-widgets/controls",
     "model_module_version": "1.5.0",
     "model_name": "HTMLModel",
     "state": {
      "_dom_classes": [],
      "_model_module": "@jupyter-widgets/controls",
      "_model_module_version": "1.5.0",
      "_model_name": "HTMLModel",
      "_view_count": null,
      "_view_module": "@jupyter-widgets/controls",
      "_view_module_version": "1.5.0",
      "_view_name": "HTMLView",
      "description": "",
      "description_tooltip": null,
      "layout": "IPY_MODEL_ce733334049d4a8b85c139f1553e2cd1",
      "placeholder": "​",
      "style": "IPY_MODEL_c72281e815934a93904b83ae3788d817",
      "value": "100%"
     }
    },
    "f39cede371a54a83ba53a5c477ec4f42": {
     "model_module": "@jupyter-widgets/controls",
     "model_module_version": "1.5.0",
     "model_name": "DescriptionStyleModel",
     "state": {
      "_model_module": "@jupyter-widgets/controls",
      "_model_module_version": "1.5.0",
      "_model_name": "DescriptionStyleModel",
      "_view_count": null,
      "_view_module": "@jupyter-widgets/base",
      "_view_module_version": "1.2.0",
      "_view_name": "StyleView",
      "description_width": ""
     }
    },
    "f910ea282d8b436b8ce0b544d3a0264a": {
     "model_module": "@jupyter-widgets/base",
     "model_module_version": "1.2.0",
     "model_name": "LayoutModel",
     "state": {
      "_model_module": "@jupyter-widgets/base",
      "_model_module_version": "1.2.0",
      "_model_name": "LayoutModel",
      "_view_count": null,
      "_view_module": "@jupyter-widgets/base",
      "_view_module_version": "1.2.0",
      "_view_name": "LayoutView",
      "align_content": null,
      "align_items": null,
      "align_self": null,
      "border": null,
      "bottom": null,
      "display": null,
      "flex": null,
      "flex_flow": null,
      "grid_area": null,
      "grid_auto_columns": null,
      "grid_auto_flow": null,
      "grid_auto_rows": null,
      "grid_column": null,
      "grid_gap": null,
      "grid_row": null,
      "grid_template_areas": null,
      "grid_template_columns": null,
      "grid_template_rows": null,
      "height": null,
      "justify_content": null,
      "justify_items": null,
      "left": null,
      "margin": null,
      "max_height": null,
      "max_width": null,
      "min_height": null,
      "min_width": null,
      "object_fit": null,
      "object_position": null,
      "order": null,
      "overflow": null,
      "overflow_x": null,
      "overflow_y": null,
      "padding": null,
      "right": null,
      "top": null,
      "visibility": null,
      "width": null
     }
    }
   }
  }
 },
 "nbformat": 4,
 "nbformat_minor": 5
}
