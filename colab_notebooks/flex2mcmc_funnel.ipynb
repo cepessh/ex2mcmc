{
  "nbformat": 4,
  "nbformat_minor": 0,
  "metadata": {
    "colab": {
      "provenance": [],
      "authorship_tag": "ABX9TyP3x/5Gh37nGPrv+mvAamkz",
      "include_colab_link": true
    },
    "kernelspec": {
      "name": "python3",
      "display_name": "Python 3"
    },
    "language_info": {
      "name": "python"
    },
    "accelerator": "GPU",
    "gpuClass": "standard"
  },
  "cells": [
    {
      "cell_type": "markdown",
      "metadata": {
        "id": "view-in-github",
        "colab_type": "text"
      },
      "source": [
        "<a href=\"https://colab.research.google.com/github/svsamsonov/ex2mcmc_new/blob/master/colab_notebooks/flex2mcmc_funnel.ipynb\" target=\"_parent\"><img src=\"https://colab.research.google.com/assets/colab-badge.svg\" alt=\"Open In Colab\"/></a>"
      ]
    },
    {
      "cell_type": "code",
      "execution_count": 131,
      "metadata": {
        "colab": {
          "base_uri": "https://localhost:8080/"
        },
        "id": "lyaqaHU_I2CI",
        "outputId": "050b27bd-0634-42ec-dc6e-8c8ed29da9a4"
      },
      "outputs": [
        {
          "output_type": "stream",
          "name": "stdout",
          "text": [
            "Looking in indexes: https://pypi.org/simple, https://us-python.pkg.dev/colab-wheels/public/simple/\n",
            "Requirement already satisfied: ex2mcmc in /usr/local/lib/python3.9/dist-packages (0.0.4)\n",
            "Requirement already satisfied: pyro-ppl<2.0.0,>=1.8.4 in /usr/local/lib/python3.9/dist-packages (from ex2mcmc) (1.8.4)\n",
            "Requirement already satisfied: jax<0.5.0,>=0.4.8 in /usr/local/lib/python3.9/dist-packages (from ex2mcmc) (0.4.8)\n",
            "Requirement already satisfied: gdown in /usr/local/lib/python3.9/dist-packages (from ex2mcmc) (4.6.6)\n",
            "Requirement already satisfied: seaborn<0.13.0,>=0.12.2 in /usr/local/lib/python3.9/dist-packages (from ex2mcmc) (0.12.2)\n",
            "Requirement already satisfied: easydict in /usr/local/lib/python3.9/dist-packages (from ex2mcmc) (1.10)\n",
            "Requirement already satisfied: torchvision in /usr/local/lib/python3.9/dist-packages (from ex2mcmc) (0.15.1+cu118)\n",
            "Requirement already satisfied: pot<0.10.0,>=0.9.0 in /usr/local/lib/python3.9/dist-packages (from ex2mcmc) (0.9.0)\n",
            "Requirement already satisfied: jaxlib<0.5.0,>=0.4.7 in /usr/local/lib/python3.9/dist-packages (from ex2mcmc) (0.4.7+cuda11.cudnn86)\n",
            "Requirement already satisfied: torch<3.0.0,>=2.0.0 in /usr/local/lib/python3.9/dist-packages (from ex2mcmc) (2.0.0+cu118)\n",
            "Requirement already satisfied: ruamel.yaml in /usr/local/lib/python3.9/dist-packages (from ex2mcmc) (0.17.21)\n",
            "Requirement already satisfied: scipy>=1.7 in /usr/local/lib/python3.9/dist-packages (from jax<0.5.0,>=0.4.8->ex2mcmc) (1.10.1)\n",
            "Requirement already satisfied: numpy>=1.21 in /usr/local/lib/python3.9/dist-packages (from jax<0.5.0,>=0.4.8->ex2mcmc) (1.22.4)\n",
            "Requirement already satisfied: ml-dtypes>=0.0.3 in /usr/local/lib/python3.9/dist-packages (from jax<0.5.0,>=0.4.8->ex2mcmc) (0.1.0)\n",
            "Requirement already satisfied: opt-einsum in /usr/local/lib/python3.9/dist-packages (from jax<0.5.0,>=0.4.8->ex2mcmc) (3.3.0)\n",
            "Requirement already satisfied: tqdm>=4.36 in /usr/local/lib/python3.9/dist-packages (from pyro-ppl<2.0.0,>=1.8.4->ex2mcmc) (4.65.0)\n",
            "Requirement already satisfied: pyro-api>=0.1.1 in /usr/local/lib/python3.9/dist-packages (from pyro-ppl<2.0.0,>=1.8.4->ex2mcmc) (0.1.2)\n",
            "Requirement already satisfied: pandas>=0.25 in /usr/local/lib/python3.9/dist-packages (from seaborn<0.13.0,>=0.12.2->ex2mcmc) (1.5.3)\n",
            "Requirement already satisfied: matplotlib!=3.6.1,>=3.1 in /usr/local/lib/python3.9/dist-packages (from seaborn<0.13.0,>=0.12.2->ex2mcmc) (3.7.1)\n",
            "Requirement already satisfied: triton==2.0.0 in /usr/local/lib/python3.9/dist-packages (from torch<3.0.0,>=2.0.0->ex2mcmc) (2.0.0)\n",
            "Requirement already satisfied: networkx in /usr/local/lib/python3.9/dist-packages (from torch<3.0.0,>=2.0.0->ex2mcmc) (3.1)\n",
            "Requirement already satisfied: typing-extensions in /usr/local/lib/python3.9/dist-packages (from torch<3.0.0,>=2.0.0->ex2mcmc) (4.5.0)\n",
            "Requirement already satisfied: sympy in /usr/local/lib/python3.9/dist-packages (from torch<3.0.0,>=2.0.0->ex2mcmc) (1.11.1)\n",
            "Requirement already satisfied: filelock in /usr/local/lib/python3.9/dist-packages (from torch<3.0.0,>=2.0.0->ex2mcmc) (3.11.0)\n",
            "Requirement already satisfied: jinja2 in /usr/local/lib/python3.9/dist-packages (from torch<3.0.0,>=2.0.0->ex2mcmc) (3.1.2)\n",
            "Requirement already satisfied: lit in /usr/local/lib/python3.9/dist-packages (from triton==2.0.0->torch<3.0.0,>=2.0.0->ex2mcmc) (16.0.1)\n",
            "Requirement already satisfied: cmake in /usr/local/lib/python3.9/dist-packages (from triton==2.0.0->torch<3.0.0,>=2.0.0->ex2mcmc) (3.25.2)\n",
            "Requirement already satisfied: requests[socks] in /usr/local/lib/python3.9/dist-packages (from gdown->ex2mcmc) (2.27.1)\n",
            "Requirement already satisfied: beautifulsoup4 in /usr/local/lib/python3.9/dist-packages (from gdown->ex2mcmc) (4.11.2)\n",
            "Requirement already satisfied: six in /usr/local/lib/python3.9/dist-packages (from gdown->ex2mcmc) (1.16.0)\n",
            "Requirement already satisfied: ruamel.yaml.clib>=0.2.6 in /usr/local/lib/python3.9/dist-packages (from ruamel.yaml->ex2mcmc) (0.2.7)\n",
            "Requirement already satisfied: pillow!=8.3.*,>=5.3.0 in /usr/local/lib/python3.9/dist-packages (from torchvision->ex2mcmc) (8.4.0)\n",
            "Requirement already satisfied: importlib-resources>=3.2.0 in /usr/local/lib/python3.9/dist-packages (from matplotlib!=3.6.1,>=3.1->seaborn<0.13.0,>=0.12.2->ex2mcmc) (5.12.0)\n",
            "Requirement already satisfied: fonttools>=4.22.0 in /usr/local/lib/python3.9/dist-packages (from matplotlib!=3.6.1,>=3.1->seaborn<0.13.0,>=0.12.2->ex2mcmc) (4.39.3)\n",
            "Requirement already satisfied: pyparsing>=2.3.1 in /usr/local/lib/python3.9/dist-packages (from matplotlib!=3.6.1,>=3.1->seaborn<0.13.0,>=0.12.2->ex2mcmc) (3.0.9)\n",
            "Requirement already satisfied: cycler>=0.10 in /usr/local/lib/python3.9/dist-packages (from matplotlib!=3.6.1,>=3.1->seaborn<0.13.0,>=0.12.2->ex2mcmc) (0.11.0)\n",
            "Requirement already satisfied: kiwisolver>=1.0.1 in /usr/local/lib/python3.9/dist-packages (from matplotlib!=3.6.1,>=3.1->seaborn<0.13.0,>=0.12.2->ex2mcmc) (1.4.4)\n",
            "Requirement already satisfied: python-dateutil>=2.7 in /usr/local/lib/python3.9/dist-packages (from matplotlib!=3.6.1,>=3.1->seaborn<0.13.0,>=0.12.2->ex2mcmc) (2.8.2)\n",
            "Requirement already satisfied: contourpy>=1.0.1 in /usr/local/lib/python3.9/dist-packages (from matplotlib!=3.6.1,>=3.1->seaborn<0.13.0,>=0.12.2->ex2mcmc) (1.0.7)\n",
            "Requirement already satisfied: packaging>=20.0 in /usr/local/lib/python3.9/dist-packages (from matplotlib!=3.6.1,>=3.1->seaborn<0.13.0,>=0.12.2->ex2mcmc) (23.1)\n",
            "Requirement already satisfied: pytz>=2020.1 in /usr/local/lib/python3.9/dist-packages (from pandas>=0.25->seaborn<0.13.0,>=0.12.2->ex2mcmc) (2022.7.1)\n",
            "Requirement already satisfied: soupsieve>1.2 in /usr/local/lib/python3.9/dist-packages (from beautifulsoup4->gdown->ex2mcmc) (2.4.1)\n",
            "Requirement already satisfied: MarkupSafe>=2.0 in /usr/local/lib/python3.9/dist-packages (from jinja2->torch<3.0.0,>=2.0.0->ex2mcmc) (2.1.2)\n",
            "Requirement already satisfied: idna<4,>=2.5 in /usr/local/lib/python3.9/dist-packages (from requests[socks]->gdown->ex2mcmc) (3.4)\n",
            "Requirement already satisfied: urllib3<1.27,>=1.21.1 in /usr/local/lib/python3.9/dist-packages (from requests[socks]->gdown->ex2mcmc) (1.26.15)\n",
            "Requirement already satisfied: certifi>=2017.4.17 in /usr/local/lib/python3.9/dist-packages (from requests[socks]->gdown->ex2mcmc) (2022.12.7)\n",
            "Requirement already satisfied: charset-normalizer~=2.0.0 in /usr/local/lib/python3.9/dist-packages (from requests[socks]->gdown->ex2mcmc) (2.0.12)\n",
            "Requirement already satisfied: PySocks!=1.5.7,>=1.5.6 in /usr/local/lib/python3.9/dist-packages (from requests[socks]->gdown->ex2mcmc) (1.7.1)\n",
            "Requirement already satisfied: mpmath>=0.19 in /usr/local/lib/python3.9/dist-packages (from sympy->torch<3.0.0,>=2.0.0->ex2mcmc) (1.3.0)\n",
            "Requirement already satisfied: zipp>=3.1.0 in /usr/local/lib/python3.9/dist-packages (from importlib-resources>=3.2.0->matplotlib!=3.6.1,>=3.1->seaborn<0.13.0,>=0.12.2->ex2mcmc) (3.15.0)\n"
          ]
        }
      ],
      "source": [
        "!pip install ex2mcmc"
      ]
    },
    {
      "cell_type": "code",
      "source": [
        "from typing import Optional\n",
        "from pathlib import Path\n",
        "import numpy as np\n",
        "import torch\n",
        "from torch.distributions import MultivariateNormal as MNormal, Normal\n",
        "from matplotlib import pyplot as plt\n",
        "import seaborn as sns\n",
        "\n",
        "from ex2mcmc.samplers import flex2mcmc, ex2mcmc\n",
        "from ex2mcmc.models.rnvp_minimal import MinimalRNVP\n",
        "from ex2mcmc.models.rnvp import RNVP\n",
        "from ex2mcmc.utils.general_utils import IMGS_DIR, random_seed\n",
        "\n",
        "from ex2mcmc.pyro_samplers import NUTS, HMC\n",
        "\n",
        "sns.set_theme('talk', style=\"white\")"
      ],
      "metadata": {
        "id": "bLsYGmHpJQHX"
      },
      "execution_count": 132,
      "outputs": []
    },
    {
      "cell_type": "code",
      "source": [
        "from typing import Iterable, List\n",
        "\n",
        "import numpy as np\n",
        "from matplotlib import pyplot as plt\n",
        "from scipy.stats import gaussian_kde\n",
        "\n",
        "\n",
        "def ema(series: Iterable, n: int) -> List:\n",
        "    \"\"\"\n",
        "    returns an n period exponential moving average for\n",
        "    the time series\n",
        "    \"\"\"\n",
        "    series = np.array(series)\n",
        "    ema = []\n",
        "    j = 1\n",
        "\n",
        "    # get n sma first and calculate the next n period ema\n",
        "    sma = sum(series[:n]) / n\n",
        "    multiplier = 2 / float(1 + n)\n",
        "    ema.append(sma)\n",
        "\n",
        "    # EMA(current) = ( (Price(current) - EMA(prev) ) x Multiplier) + EMA(prev)\n",
        "    ema.append(((series[n] - sma) * multiplier) + sma)\n",
        "\n",
        "    # now calculate the rest of the values\n",
        "    for i in series[n + 1 :]:\n",
        "        tmp = ((i - ema[j]) * multiplier) + ema[j]\n",
        "        j = j + 1\n",
        "        ema.append(tmp)\n",
        "\n",
        "    return ema\n",
        "\n",
        "def plot_result(\n",
        "    chains, dist, flow=None, chain_id=0, grid_n=100, proj_dim1=-1, proj_dim2=-2\n",
        "):\n",
        "    proj_slice = [proj_dim1, proj_dim2]\n",
        "    proj_dim1 = dist.dim + proj_dim1 + 1 if proj_dim1 < 0 else proj_dim1 + 1\n",
        "    proj_dim2 = dist.dim + proj_dim2 + 1 if proj_dim2 < 0 else proj_dim2 + 1\n",
        "\n",
        "    if flow:\n",
        "        fig, axs = plt.subplots(1, 4, figsize=(17, 4))\n",
        "    else:\n",
        "        fig, axs = plt.subplots(1, 3, figsize=(12, 4))\n",
        "    result = chains.reshape(-1, chains.shape[-1])\n",
        "    dist.plot_2d_countour(axs[0])\n",
        "    xmin, xmax = axs[0].get_xlim()\n",
        "    ymin, ymax = axs[0].get_ylim()\n",
        "\n",
        "    axs[0].scatter(\n",
        "        *result[:, proj_slice].T, alpha=min(0.6, 1000.0 / result.shape[0]), s=10\n",
        "    )  # , c='r', marker='o')\n",
        "    axs[0].set_title(f\"Projected samples from {chains.shape[1]} chains\")\n",
        "\n",
        "    kernel = gaussian_kde(result[:, proj_slice].T)\n",
        "    x = np.linspace(xmin, xmax, grid_n)\n",
        "    y = np.linspace(ymin, ymax, grid_n)\n",
        "    X, Y = np.meshgrid(x, y)\n",
        "    positions = np.vstack([X.ravel(), Y.ravel()])\n",
        "    kde = np.reshape(kernel(positions).T, X.shape)\n",
        "    axs[1].contour(X, Y, kde, cmap=\"inferno\")\n",
        "    axs[1].set_title(f\"KDE\")\n",
        "\n",
        "    chain_id = 0\n",
        "    result = chains[:, chain_id]\n",
        "    dist.plot_2d_countour(axs[2])\n",
        "    axs[2].plot(\n",
        "        *result[:, proj_slice].T, \"-\", alpha=min(0.6, 1000.0 / result.shape[0])\n",
        "    )  # , c='k')\n",
        "    axs[2].set_title(f\"Trajectory of chain {chain_id}\")\n",
        "\n",
        "    if flow:\n",
        "        flow_sample = flow.sample((10000,)).detach().cpu()\n",
        "        kernel = gaussian_kde(flow_sample[:, proj_slice].T)\n",
        "        kde = np.reshape(kernel(positions).T, X.shape)\n",
        "        axs[3].contour(X, Y, kde, cmap=\"inferno\")\n",
        "        axs[3].set_title(f\"KDE of NF samples\")\n",
        "\n",
        "    for ax in axs:\n",
        "        ax.set_xlim(xmin, xmax)\n",
        "        ax.set_ylim(ymin, ymax)\n",
        "        ax.set_xlabel(rf\"$X{proj_dim1}$\")\n",
        "        ax.set_ylabel(rf\"$X{proj_dim2}$\")\n",
        "\n",
        "    fig.tight_layout()"
      ],
      "metadata": {
        "id": "4GSr0RhdJWEf"
      },
      "execution_count": 133,
      "outputs": []
    },
    {
      "cell_type": "code",
      "source": [
        "N_CHAINS = 1\n",
        "N_SAMPLES = 5000\n",
        "BURN_IN = 1000\n",
        "\n",
        "PROJ_DIM1 = -1\n",
        "PROJ_DIM2 = -2\n",
        "\n",
        "device = torch.device('cuda' if torch.cuda.is_available() else 'cpu')\n",
        "print(device)"
      ],
      "metadata": {
        "colab": {
          "base_uri": "https://localhost:8080/"
        },
        "id": "wTEoffyTJXOb",
        "outputId": "1c5e9fdb-9cae-4c27-cde5-bc7308c6f3a1"
      },
      "execution_count": 134,
      "outputs": [
        {
          "output_type": "stream",
          "name": "stdout",
          "text": [
            "cuda\n"
          ]
        }
      ]
    },
    {
      "cell_type": "code",
      "source": [
        "class Funnel(object):\n",
        "    \"\"\"\n",
        "    Funnel distribution.\n",
        "\n",
        "    “Slice sampling”. R. Neal, Annals of statistics, 705 (2003) https://doi.org/10.1214/aos/1056562461\n",
        "\n",
        "    Args:\n",
        "        dim - dimension\n",
        "        nu - parameter\n",
        "    \"\"\"\n",
        "    def __init__(self, dim: int, a: float=3):\n",
        "        self._dim = dim\n",
        "        self.a = a\n",
        "        self.normal_last = Normal(0, a)\n",
        "\n",
        "    @property\n",
        "    def dim(self) -> int:\n",
        "        return self._dim\n",
        "    \n",
        "    def log_prob(self, x: torch.FloatTensor) -> torch.FloatTensor:\n",
        "        \"\"\"\n",
        "        Returns:\n",
        "            log p(x)\n",
        "        \"\"\"\n",
        "\n",
        "        normal_first = Normal(torch.zeros(x.shape[:-1], device=x.device), torch.exp(x[..., -1] / 2.))\n",
        "        return normal_first.log_prob(x[..., :-1].permute(-1, *range(x.ndim-1))).sum(0) + \\\n",
        "            self.normal_last.log_prob(x[..., -1])\n",
        "\n",
        "    def plot_2d_countour(self, ax):\n",
        "        x = np.linspace(-15, 15, 100)\n",
        "        y = np.linspace(-10, 10, 100)\n",
        "        X, Y = np.meshgrid(x, y)\n",
        "        inp = torch.from_numpy(np.stack([X, Y], -1))\n",
        "        Z = self.log_prob(inp.reshape(-1, 2)).reshape(inp.shape[:-1])\n",
        "\n",
        "        #levels = np.quantile(Z, np.linspace(0.9, 0.99, 5))\n",
        "        ax.contour(Y, X, Z.exp(), \n",
        "                   #levels = levels,\n",
        "                   levels=3, \n",
        "                   alpha=1., cmap='inferno')\n"
      ],
      "metadata": {
        "id": "4hyNdXLzJiD5"
      },
      "execution_count": 135,
      "outputs": []
    },
    {
      "cell_type": "code",
      "source": [
        "dim = 100\n",
        "funnel = Funnel(dim=dim, a=2)\n",
        "ax = plt.subplot()\n",
        "funnel.plot_2d_countour(ax)\n",
        "\n",
        "random_seed(42)\n",
        "start_funnel = torch.randn((N_CHAINS, funnel.dim))\n",
        "proj_slice = [-2, -1]\n",
        "plt.scatter(*start_funnel[:, proj_slice].T, s=10, label='starting points')\n",
        "plt.title('Funnel')\n",
        "plt.legend()\n",
        "plt.show()"
      ],
      "metadata": {
        "colab": {
          "base_uri": "https://localhost:8080/",
          "height": 474
        },
        "id": "enG80DQjJpO5",
        "outputId": "e7c309e4-57c1-462e-835c-e98530b4cd03"
      },
      "execution_count": 136,
      "outputs": [
        {
          "output_type": "display_data",
          "data": {
            "text/plain": [
              "<Figure size 640x480 with 1 Axes>"
            ],
            "image/png": "[encoded data removed]"
          },
          "metadata": {}
        }
      ]
    },
    {
      "cell_type": "code",
      "source": [
        "step_size = 0.1\n",
        "\n",
        "random_seed(42)\n",
        "\n",
        "chains = NUTS(start_funnel.to(device), funnel, N_SAMPLES, BURN_IN, step_size=step_size, verbose=True)"
      ],
      "metadata": {
        "colab": {
          "base_uri": "https://localhost:8080/"
        },
        "id": "2tFQh-VSJq2f",
        "outputId": "a5456d73-c3e9-4409-b2a3-ef8f6eae63b7"
      },
      "execution_count": null,
      "outputs": [
        {
          "output_type": "stream",
          "name": "stderr",
          "text": [
            "Sample:  18%|█▊        | 1095/6000 [01:25, 23.57it/s, step size=1.01e-01, acc. prob=0.944]"
          ]
        }
      ]
    },
    {
      "cell_type": "code",
      "source": [
        "plot_result(chains.cpu(), funnel, proj_dim1=PROJ_DIM1, proj_dim2=PROJ_DIM2)"
      ],
      "metadata": {
        "id": "EGRxD8UgJ23D"
      },
      "execution_count": null,
      "outputs": []
    },
    {
      "cell_type": "code",
      "source": [
        "chains = chains.cpu()\n",
        "plt.scatter(chains.view(-1, dim)[:, PROJ_DIM1], chains.view(-1, dim)[:, PROJ_DIM2], alpha=0.3)\n",
        "plt.title(r'NUTS samples')"
      ],
      "metadata": {
        "id": "jB7gCaWbJ7O_"
      },
      "execution_count": null,
      "outputs": []
    },
    {
      "cell_type": "code",
      "source": [
        "step_size = 0.1\n",
        "n_particles = 2000\n",
        "n_mala_steps = 3\n",
        "\n",
        "proposal = MNormal(torch.zeros(dim, device=device), 1 ** 2 * torch.eye(dim, device=device))\n",
        "\n",
        "chains, meta = ex2mcmc(\n",
        "    start_funnel.to(device), \n",
        "    funnel, \n",
        "    proposal, \n",
        "    N_SAMPLES,\n",
        "    BURN_IN,\n",
        "    step_size=step_size, \n",
        "    n_particles=n_particles, \n",
        "    n_mala_steps=n_mala_steps, \n",
        "    verbose=True)\n",
        "chains = chains.detach().cpu()"
      ],
      "metadata": {
        "id": "h-s-_TdHJ9oM"
      },
      "execution_count": null,
      "outputs": []
    },
    {
      "cell_type": "code",
      "source": [
        "plot_result(chains, funnel, proj_dim1=PROJ_DIM1, proj_dim2=PROJ_DIM2)"
      ],
      "metadata": {
        "id": "ycKBZUbQKBrX"
      },
      "execution_count": null,
      "outputs": []
    },
    {
      "cell_type": "code",
      "source": [
        "plt.scatter(chains.view(-1, dim)[:, PROJ_DIM1], chains.view(-1, dim)[:, PROJ_DIM2], alpha=0.3)\n",
        "plt.title(r'Ex$^2$MCMC samples')"
      ],
      "metadata": {
        "id": "N6phHMBGKDVP"
      },
      "execution_count": null,
      "outputs": []
    },
    {
      "cell_type": "code",
      "source": [
        "step_size = 0.1\n",
        "target_acceptance = 0.67\n",
        "n_particles = 200\n",
        "n_mala_steps = 5\n",
        "train_steps = 500\n",
        "batch_size = 300\n",
        "prior_scale = 1\n",
        "backward_kl_weight = 0.05\n",
        "forward_kl_weight = 1 - backward_kl_weight\n",
        "\n",
        "proposal = RNVP(num_blocks=4, dim=dim, device=device, scale=prior_scale)\n",
        "opt = torch.optim.Adam(proposal.parameters(), 1e-4)\n",
        "proposal.optim = opt\n",
        "proposal.train()\n",
        "proposal.scheduler = torch.optim.lr_scheduler.LambdaLR(\n",
        "    opt, lambda it: int(it < train_steps)\n",
        ")\n",
        "\n",
        "random_seed(42)\n",
        "\n",
        "# train\n",
        "_, meta = flex2mcmc(\n",
        "    proposal.prior.sample((batch_size,)),\n",
        "    funnel, \n",
        "    proposal, \n",
        "    1,\n",
        "    train_steps,\n",
        "    step_size=step_size, \n",
        "    n_particles=10,\n",
        "    n_mala_steps=n_mala_steps,\n",
        "    forward_kl_weight=forward_kl_weight,\n",
        "    backward_kl_weight=backward_kl_weight,\n",
        "    target_acceptance=target_acceptance,\n",
        "    verbose=True)\n",
        "\n",
        "proposal.eval();"
      ],
      "metadata": {
        "id": "V5qVTYWQKGPL"
      },
      "execution_count": null,
      "outputs": []
    },
    {
      "cell_type": "code",
      "source": [
        "step_size = meta['step_size'][-1]\n",
        "print(step_size)"
      ],
      "metadata": {
        "id": "4Nya6sRtTK-_"
      },
      "execution_count": null,
      "outputs": []
    },
    {
      "cell_type": "code",
      "source": [
        "sample = proposal.sample((10000,)).detach().cpu()\n",
        "plt.scatter(sample.view(-1, dim)[:, PROJ_DIM1], sample.view(-1, dim)[:, PROJ_DIM2], alpha=0.3)\n",
        "plt.title('NF samples')"
      ],
      "metadata": {
        "id": "ivds8sDGKIW2"
      },
      "execution_count": null,
      "outputs": []
    },
    {
      "cell_type": "code",
      "source": [
        "# sample\n",
        "# step_size = 0.1\n",
        "\n",
        "chains, meta = flex2mcmc(\n",
        "    start_funnel.to(device), \n",
        "    funnel, \n",
        "    proposal, \n",
        "    N_SAMPLES,\n",
        "    BURN_IN,\n",
        "    step_size=step_size, \n",
        "    n_particles=n_particles, \n",
        "    n_mala_steps=n_mala_steps, \n",
        "    target_acceptance=None, #target_acceptance,\n",
        "    verbose=True)\n",
        "chains = chains.detach().cpu()"
      ],
      "metadata": {
        "id": "2xyuyc2hKLVL"
      },
      "execution_count": null,
      "outputs": []
    },
    {
      "cell_type": "code",
      "source": [
        "plot_result(chains.cpu(), funnel, proposal, proj_dim1=PROJ_DIM1, proj_dim2=PROJ_DIM2)"
      ],
      "metadata": {
        "id": "9F2GaKdtKPwh"
      },
      "execution_count": null,
      "outputs": []
    },
    {
      "cell_type": "code",
      "source": [
        "plt.plot(ema(meta['sir_accept'], 10))\n",
        "plt.title('Acceptance rate')\n",
        "plt.xlabel('Iteration')\n",
        "plt.show()"
      ],
      "metadata": {
        "id": "Oq4JGKkTKRjn"
      },
      "execution_count": null,
      "outputs": []
    },
    {
      "cell_type": "code",
      "source": [
        "plt.scatter(chains.view(-1, dim)[:, PROJ_DIM1], chains.view(-1, dim)[:, PROJ_DIM2], alpha=0.3)\n",
        "plt.title(r'FlEx$^2$MCM samples')"
      ],
      "metadata": {
        "id": "2wIaLK-UKTis"
      },
      "execution_count": null,
      "outputs": []
    },
    {
      "cell_type": "code",
      "source": [],
      "metadata": {
        "id": "OmuzKO8rO_mf"
      },
      "execution_count": null,
      "outputs": []
    }
  ]
}